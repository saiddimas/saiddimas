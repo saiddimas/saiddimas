{
  "nbformat": 4,
  "nbformat_minor": 0,
  "metadata": {
    "colab": {
      "provenance": [],
      "authorship_tag": "ABX9TyPh/3S/BcRUSDrskyQuVQSV",
      "include_colab_link": true
    },
    "kernelspec": {
      "name": "python3",
      "display_name": "Python 3"
    },
    "language_info": {
      "name": "python"
    }
  },
  "cells": [
    {
      "cell_type": "markdown",
      "metadata": {
        "id": "view-in-github",
        "colab_type": "text"
      },
      "source": [
        "<a href=\"https://colab.research.google.com/github/saiddimas/saiddimas/blob/main/Untitled0.ipynb\" target=\"_parent\"><img src=\"https://colab.research.google.com/assets/colab-badge.svg\" alt=\"Open In Colab\"/></a>"
      ]
    },
    {
      "cell_type": "code",
      "execution_count": 3,
      "metadata": {
        "colab": {
          "base_uri": "https://localhost:8080/"
        },
        "id": "I9Itkk8-ZRLa",
        "outputId": "d9d53f9c-f52b-449b-e523-d5a4b9844381"
      },
      "outputs": [
        {
          "output_type": "stream",
          "name": "stdout",
          "text": [
            "ingresa dos números\n",
            "Ingrese un número: 7\n",
            "ingrese el segundo número9\n",
            "el primer número es menor\n"
          ]
        }
      ],
      "source": [
        "print(\"ingresa dos números\")\n",
        "numA = int(input(\"Ingrese un número: \"))\n",
        "numB = int(input(\"ingrese el segundo número\"))\n",
        "if numA<numB:\n",
        "    print(\"el primer número es menor\")\n",
        "elif numA>numB:\n",
        "    Print(\"el primer número es mayor\")"
      ]
    },
    {
      "cell_type": "code",
      "source": [
        "#print(\"Ingresa un número\")\n",
        "num = int(input(\"Ingresa un numero: \"))\n",
        "\n",
        "if num%2==0:\n",
        "    print(\"Tu num es par\")\n",
        "else:\n",
        "    print(\"número impar\")"
      ],
      "metadata": {
        "colab": {
          "base_uri": "https://localhost:8080/"
        },
        "id": "g6uglpEtaCy1",
        "outputId": "34c620ae-ee9e-4744-eab6-c76196857b69"
      },
      "execution_count": 53,
      "outputs": [
        {
          "output_type": "stream",
          "name": "stdout",
          "text": [
            "Ingresa un numero: 1\n",
            "número impar\n"
          ]
        }
      ]
    }
  ]
}