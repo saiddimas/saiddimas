{
  "nbformat": 4,
  "nbformat_minor": 0,
  "metadata": {
    "colab": {
      "provenance": [],
      "authorship_tag": "ABX9TyPNP04EYORb3bkdhFZHBdji",
      "include_colab_link": true
    },
    "kernelspec": {
      "name": "python3",
      "display_name": "Python 3"
    },
    "language_info": {
      "name": "python"
    }
  },
  "cells": [
    {
      "cell_type": "markdown",
      "metadata": {
        "id": "view-in-github",
        "colab_type": "text"
      },
      "source": [
        "<a href=\"https://colab.research.google.com/github/saiddimas/saiddimas/blob/main/Untitled0.ipynb\" target=\"_parent\"><img src=\"https://colab.research.google.com/assets/colab-badge.svg\" alt=\"Open In Colab\"/></a>"
      ]
    },
    {
      "cell_type": "markdown",
      "source": [
        "Problema 1"
      ],
      "metadata": {
        "id": "ZDJiIaXqtba1"
      }
    },
    {
      "cell_type": "code",
      "source": [
        "numA = int(input(\"Introduce el primer número \"))\n",
        "numB = int(input(\"Introduce el segundo número \"))\n",
        "s = numA+numB\n",
        "r = numA-numB\n",
        "m = numA*numB\n",
        "d = numA/numB\n",
        "dp =numA//numB\n",
        "re = numA%numB\n",
        "print(\"La suma es \" , s)\n",
        "print(\"La resta es \" , r)\n",
        "print(\"La multiplicación es \" , m)\n",
        "print(\"La división es \" , d)\n",
        "print(\"La división de piso es \" , dp)\n",
        "print(\"El residuo es \" , re)"
      ],
      "metadata": {
        "colab": {
          "base_uri": "https://localhost:8080/"
        },
        "id": "u_V2EfwImnpF",
        "outputId": "98ba923c-dba4-4b3b-d08c-099ebecb77dd"
      },
      "execution_count": 119,
      "outputs": [
        {
          "output_type": "stream",
          "name": "stdout",
          "text": [
            "Introduce el primer número 3\n",
            "Introduce el segundo número 7\n",
            "La suma es  10\n",
            "La resta es  -4\n",
            "La multiplicación es  21\n",
            "La división es  0.42857142857142855\n",
            "La división de piso es  0\n",
            "El residuo es  3\n"
          ]
        }
      ]
    },
    {
      "cell_type": "markdown",
      "source": [
        "Problema 2"
      ],
      "metadata": {
        "id": "6t-jMqE1tfrF"
      }
    },
    {
      "cell_type": "code",
      "execution_count": 112,
      "metadata": {
        "colab": {
          "base_uri": "https://localhost:8080/"
        },
        "id": "I9Itkk8-ZRLa",
        "outputId": "faa013e4-d779-4be8-a09d-e31c1d171ae6"
      },
      "outputs": [
        {
          "output_type": "stream",
          "name": "stdout",
          "text": [
            "Ingrese un número: 3\n",
            "ingrese el segundo número8\n",
            "el primer número es menor\n"
          ]
        }
      ],
      "source": [
        "#print(\"ingresa dos números\")\n",
        "numA = int(input(\"Ingrese un número: \"))\n",
        "numB = int(input(\"ingrese el segundo número\"))\n",
        "if numA<numB:\n",
        "    print(\"el primer número es menor\")\n",
        "elif numA>numB:\n",
        "    Print(\"el primer número es mayor\")"
      ]
    },
    {
      "cell_type": "markdown",
      "source": [
        "Problema 3"
      ],
      "metadata": {
        "id": "nAuKN7N1tpEA"
      }
    },
    {
      "cell_type": "code",
      "source": [
        "#print(\"Ingresa un número\")\n",
        "num = int(input(\"Ingresa un numero: \"))\n",
        "\n",
        "if num%2==0:\n",
        "    print(\"Tu num es par\")\n",
        "else:\n",
        "    print(\"número impar\")"
      ],
      "metadata": {
        "colab": {
          "base_uri": "https://localhost:8080/"
        },
        "id": "g6uglpEtaCy1",
        "outputId": "c0494358-0ff6-4adc-f29a-b4b049268a57"
      },
      "execution_count": 35,
      "outputs": [
        {
          "output_type": "stream",
          "name": "stdout",
          "text": [
            "Ingresa un numero: 12\n",
            "Tu num es par\n"
          ]
        }
      ]
    },
    {
      "cell_type": "markdown",
      "source": [
        "Problema 4"
      ],
      "metadata": {
        "id": "ekj_LibTttrh"
      }
    },
    {
      "cell_type": "code",
      "source": [
        "num = int(input(\"Ingresa tu edad \"))\n",
        "if num <= 12:\n",
        "    print(\"Eres un niño\")\n",
        "elif 18>=num>12:\n",
        "    print(\"Eres un adolescente\")\n",
        "elif 60>=num>18:\n",
        "    print(\"Eres un adulto\")\n",
        "else:\n",
        "    print(\"Eres un adulto mayor\")"
      ],
      "metadata": {
        "colab": {
          "base_uri": "https://localhost:8080/"
        },
        "id": "aNMdi21JRNC6",
        "outputId": "9207fb0c-cd89-4287-f822-d6361f05f6a3"
      },
      "execution_count": 52,
      "outputs": [
        {
          "output_type": "stream",
          "name": "stdout",
          "text": [
            "Ingresa tu edad 87\n",
            "Eres un adulto mayor\n"
          ]
        }
      ]
    },
    {
      "cell_type": "markdown",
      "source": [
        "Problema 5"
      ],
      "metadata": {
        "id": "1onwreTYtyBj"
      }
    },
    {
      "cell_type": "code",
      "source": [
        "numA = float(input(\"Ingresa el precio del producto \"))\n",
        "numB = float(input(\"Ingresa el porcentaje de descuento \"))\n",
        "descuento = numA*numB/100\n",
        "preciototal =numA-descuento\n",
        "print(\"Total a pagar\",preciototal)"
      ],
      "metadata": {
        "colab": {
          "base_uri": "https://localhost:8080/"
        },
        "id": "SeByysieVv07",
        "outputId": "ffe69192-973b-45cf-cd77-de10f69dc226"
      },
      "execution_count": 74,
      "outputs": [
        {
          "output_type": "stream",
          "name": "stdout",
          "text": [
            "Ingresa el precio del producto 100\n",
            "Ingresa el porcentaje de descuento 12\n",
            "Total a pagar 88.0\n"
          ]
        }
      ]
    },
    {
      "cell_type": "markdown",
      "source": [
        "Problema 6"
      ],
      "metadata": {
        "id": "PqCFgMA8t2PK"
      }
    },
    {
      "cell_type": "code",
      "source": [
        "temp1 = float(input(\"Ingresa los grados Celcius \"))\n",
        "F = temp1*9/5+32\n",
        "K = temp1+273.15\n",
        "print(\"La temperatura es de \" + str(F) + \" grados Farenheit y \" + str(K) + \" en grados kelvin\")"
      ],
      "metadata": {
        "colab": {
          "base_uri": "https://localhost:8080/"
        },
        "id": "-TP-QpfFbefK",
        "outputId": "a128f482-1268-4bb6-d7d0-602ba0520e8c"
      },
      "execution_count": 90,
      "outputs": [
        {
          "output_type": "stream",
          "name": "stdout",
          "text": [
            "Ingresa los grados Celcius 18.99\n",
            "La temperatura es de 66.182 grados Farenheit y 292.14 en grados kelvin\n"
          ]
        }
      ]
    },
    {
      "cell_type": "markdown",
      "source": [
        "Problema 7"
      ],
      "metadata": {
        "id": "k_GCPX_Bt4ha"
      }
    },
    {
      "cell_type": "code",
      "source": [
        "Kg = float(input(\"Introduce tu peso \"))\n",
        "m = float(input(\"Introduce tu altura en metros  \"))\n",
        "IMC = Kg/m**2\n",
        "print(\"Tienes \" + str(IMC) + \" de IMC\")"
      ],
      "metadata": {
        "colab": {
          "base_uri": "https://localhost:8080/"
        },
        "id": "UOm3oGkrer7P",
        "outputId": "029ee8cf-9239-4dea-bec9-82f7a05a6297"
      },
      "execution_count": 94,
      "outputs": [
        {
          "output_type": "stream",
          "name": "stdout",
          "text": [
            "Introduce tu peso 80\n",
            "Introduce tu altura en metros  1.72\n",
            "Tienes 27.041644131963228 de IMC\n"
          ]
        }
      ]
    },
    {
      "cell_type": "markdown",
      "source": [
        "Problema 8"
      ],
      "metadata": {
        "id": "dTpzpmfSt60e"
      }
    },
    {
      "cell_type": "code",
      "source": [
        "año = int(input(\"Introduce el año \"))\n",
        "if año%100==0:\n",
        "    print(str(año) + \" no es bisiesto\")\n",
        "elif año%400==0:\n",
        "    print(str(año) + \" si es bisiesto\")\n",
        "elif año%4==0:\n",
        "    print(str(año) + \" si es bisiesto\")\n",
        "else:\n",
        "    print(str(año) + \" no es bisiesto\")"
      ],
      "metadata": {
        "colab": {
          "base_uri": "https://localhost:8080/"
        },
        "id": "ugwxZd84hCdh",
        "outputId": "29444821-b5e7-4be7-a258-d2277eadd7cb"
      },
      "execution_count": 108,
      "outputs": [
        {
          "output_type": "stream",
          "name": "stdout",
          "text": [
            "Introduce el año 107\n",
            "107 no es bisiesto\n"
          ]
        }
      ]
    },
    {
      "cell_type": "markdown",
      "source": [
        "Problema 9"
      ],
      "metadata": {
        "id": "tWnOG3qmt8k9"
      }
    },
    {
      "cell_type": "code",
      "source": [
        "cal1 = float(input(\"Introduce la primera calificación \"))\n",
        "cal2 = float(input(\"Introduce la segunda calificación \"))\n",
        "cal3 = float(input(\"Introduce la tercera calificación \"))\n",
        "prom = (cal1+cal2+cal3)/3\n",
        "print(\"El promedio es\",prom)"
      ],
      "metadata": {
        "colab": {
          "base_uri": "https://localhost:8080/"
        },
        "id": "JpEvs1GMkqt3",
        "outputId": "32c202aa-2fe8-4335-cf15-ee79d7f4a625"
      },
      "execution_count": 111,
      "outputs": [
        {
          "output_type": "stream",
          "name": "stdout",
          "text": [
            "Introduce la primera calificación 4\n",
            "Introduce la segunda calificación 3\n",
            "Introduce la tercera calificación 5\n",
            "El promedio es 4.0\n"
          ]
        }
      ]
    },
    {
      "cell_type": "markdown",
      "source": [
        "Problema 10"
      ],
      "metadata": {
        "id": "oG_WusPot-fk"
      }
    },
    {
      "cell_type": "code",
      "source": [
        "b = float(input(\"Introduce la base \"))\n",
        "h = float(input(\"Introduce la altura \"))\n",
        "A = b*h/2\n",
        "print(\"El área del triangulo es \", A)"
      ],
      "metadata": {
        "colab": {
          "base_uri": "https://localhost:8080/"
        },
        "id": "q59ZWkUsl-LF",
        "outputId": "cee46e94-d218-403e-c612-d6e4c785070e"
      },
      "execution_count": 116,
      "outputs": [
        {
          "output_type": "stream",
          "name": "stdout",
          "text": [
            "Introduce la base 2\n",
            "Introduce la altura 4\n",
            "El área del triangulo es  4.0\n"
          ]
        }
      ]
    }
  ]
}