{
  "nbformat": 4,
  "nbformat_minor": 0,
  "metadata": {
    "colab": {
      "provenance": [],
      "authorship_tag": "ABX9TyMFj9DFbKfv99mSvnZ/7koT",
      "include_colab_link": true
    },
    "kernelspec": {
      "name": "python3",
      "display_name": "Python 3"
    },
    "language_info": {
      "name": "python"
    }
  },
  "cells": [
    {
      "cell_type": "markdown",
      "metadata": {
        "id": "view-in-github",
        "colab_type": "text"
      },
      "source": [
        "<a href=\"https://colab.research.google.com/github/saiddimas/saiddimas/blob/main/Copia_de_Untitled3.ipynb\" target=\"_parent\"><img src=\"https://colab.research.google.com/assets/colab-badge.svg\" alt=\"Open In Colab\"/></a>"
      ]
    },
    {
      "cell_type": "markdown",
      "source": [
        "Problema 1"
      ],
      "metadata": {
        "id": "JxYmAXZ9jEbC"
      }
    },
    {
      "cell_type": "code",
      "source": [
        "peli = str(input('Elije una película entre \"Amores perros\", \"Pulp fiction\" y \"The Batman\" '))\n",
        "#peli1 = \"The Batman\"\n",
        "pelisin = peli.strip()\n",
        "pelimin = pelisin.lower()\n",
        "dic1 = {\"the batman\":{\"Género\": [\"Suspenso\", \"Acción\"], \"Actores principales\":[\"Robert Pattinson\", \"Paul Dano\"]}, \"pulp fiction\":{\"Género\":[\"Comedia\", \"Acción\"], \"Actores principales\":[\"Jhon Travolta\", \"Samuel L. Jackson\"]}, \"amores perros\":{\"Género\": [\"Comedia negra\", \"Cine negro\"], \"Actores principales\":[\"Emilio Echeverría\", \"Gael García Bernal\", \"Goya Toledo\"]}}\n",
        "if pelimin in dic1:\n",
        "\n",
        "    print(dic1[pelimin])\n",
        "else:\n",
        "    print(\"Película no encontrada\")"
      ],
      "metadata": {
        "colab": {
          "base_uri": "https://localhost:8080/"
        },
        "id": "5zqHgr8iWEc2",
        "outputId": "ccc63d8c-c64d-416b-cb80-3ee0b9b4f776"
      },
      "execution_count": null,
      "outputs": [
        {
          "output_type": "stream",
          "name": "stdout",
          "text": [
            "Elije una película entre \"Amores perros\", \"Pulp fiction\" y \"The Batman\" El joker\n",
            "Película no encontrada\n"
          ]
        }
      ]
    },
    {
      "cell_type": "markdown",
      "source": [
        "Problema 2"
      ],
      "metadata": {
        "id": "lfFfzTcZjHol"
      }
    },
    {
      "cell_type": "code",
      "source": [
        "pais = str(input(\"Ingresa un país de sudamérica \"))\n",
        "#paisin = pais.strip()\n",
        "paismin = pais.lower()\n",
        "dic1 = {\"argentina\":{\"Ciudades más importantes\": [\"Buenos Aires\", \"Córdoba\", \"Rosario\"], \"Coordenadas\":[\"Longitud de 63.6167°0\", \"Latitud de 38.4161°S\"]}}\n",
        "dic2 = {\"brasil\":{\"Ciudades más importantes\": [\"São Pablo\", \"Río de Janeiro\", \"Brasilia\"], \"Coordenadas\":[\"Longitud de 51.9253°0\", \"Latitud de 14.2350°S\"]}}\n",
        "dic3 = {\"chile\":{\"Ciudades más importantes\": [\"Santiago\", \"Valparaíso\", \"Concepción\"], \"Coordenadas\":[\"Longitud de 71.5430°0\", \"Latitud de 35.6751°S\"]}}\n",
        "dic4 = {\"colombia\":{\"Ciudades más importantes\": [\"Bogota\", \"Medellín\", \"Cali\"], \"Coordenadas\":[\"Longitud de 74.2973°0\", \"Latitud de 4.5709°S\"]}}\n",
        "dic5 = {\"peru\":{\"Ciudades más importantes\": [\"Lima\", \"Arequipa\", \"Cusco\"], \"Coordenadas\":[\"Longitud de 75.0152°0\", \"Latitud de 9.19\"]}}\n",
        "dic0 = {**dic1, **dic2, **dic3, **dic4, **dic5}\n",
        "if paismin in dic0:\n",
        "    print(dic0[paismin])\n",
        "else:\n",
        "    print(\"País no encontrado\")"
      ],
      "metadata": {
        "colab": {
          "base_uri": "https://localhost:8080/"
        },
        "id": "8gt51_xPjJ_H",
        "outputId": "001c74a4-5228-4435-e108-9ec8b5deb111"
      },
      "execution_count": null,
      "outputs": [
        {
          "output_type": "stream",
          "name": "stdout",
          "text": [
            "Ingresa un país de sudamérica México \n",
            "País no encontrado\n"
          ]
        }
      ]
    },
    {
      "cell_type": "markdown",
      "source": [
        "Problema"
      ],
      "metadata": {
        "id": "T4BuX754r9Rg"
      }
    },
    {
      "cell_type": "code",
      "source": [
        "datosClima = {'lat': 28.5421,\n",
        "              'lon': -81.379,\n",
        "              'timezone': 'America/New_York',\n",
        "              'timezone_offset': -18000,\n",
        "              'daily':\n",
        "              [{'dt': '09/Sep/24', 'temp': 26.33, 'pressure': 1020, 'humidity': 58},\n",
        "               {'dt': '10/Sep/24', 'temp': 28.03, 'pressure': 1018, 'humidity': 47},\n",
        "               {'dt': '11/Sep/24', 'temp': 28.93, 'pressure': 1018, 'humidity': 56},\n",
        "               {'dt': '12/Sep/24', 'temp': 30.8, 'pressure': 1018, 'humidity': 46},\n",
        "               {'dt': '13/Sep/24', 'temp': 27.17, 'pressure': 1019, 'humidity': 61},\n",
        "               {'dt': '14/Sep/24', 'temp': 24.02, 'pressure': 1020, 'humidity': 67},\n",
        "               {'dt': '17/Sep/24', 'temp': 23.73, 'pressure': 1023, 'humidity': 40},\n",
        "               {'dt': '18/Sep/24', 'temp': 24.7, 'pressure': 1024, 'humidity': 39}]}"
      ],
      "metadata": {
        "id": "vpR2mlktsAby"
      },
      "execution_count": null,
      "outputs": []
    },
    {
      "cell_type": "markdown",
      "source": [
        "Preguntas"
      ],
      "metadata": {
        "id": "tP4q7fHwtBgg"
      }
    },
    {
      "cell_type": "code",
      "source": [
        "\n",
        "datosClima = {'lat': 28.5421,\n",
        "              'lon': -81.379,\n",
        "              'timezone': 'America/New_York',\n",
        "              'timezone_offset': -18000,\n",
        "              'daily':\n",
        "              [{'dt': '09/Sep/24', 'temp': 26.33, 'pressure': 1020, 'humidity': 58},\n",
        "               {'dt': '10/Sep/24', 'temp': 28.03, 'pressure': 1018, 'humidity': 47},\n",
        "               {'dt': '11/Sep/24', 'temp': 28.93, 'pressure': 1018, 'humidity': 56},\n",
        "               {'dt': '12/Sep/24', 'temp': 30.8, 'pressure': 1018, 'humidity': 46},\n",
        "               {'dt': '13/Sep/24', 'temp': 27.17, 'pressure': 1019, 'humidity': 61},\n",
        "               {'dt': '14/Sep/24', 'temp': 24.02, 'pressure': 1020, 'humidity': 67},\n",
        "               {'dt': '17/Sep/24', 'temp': 23.73, 'pressure': 1023, 'humidity': 40},\n",
        "               {'dt': '18/Sep/24', 'temp': 24.7, 'pressure': 1024, 'humidity': 39}]}\n",
        "#Pregunta 1\n",
        "print(\"Latitud de\", datosClima['lat'])\n",
        "print(\"Longitud de\", datosClima['lon'])\n",
        "#Pregunta 2\n",
        "pa = datosClima['daily'][3]\n",
        "print(f\"Presión atmosférica del 11/09: {pa['pressure']}\")\n",
        "#Pregunta 3\n",
        "hr = datosClima['daily'][4]\n",
        "print(f\"La humedad relativa del 13/09 es: {hr['humidity']}%\")\n",
        "#Pregunta 4\n",
        "print(datosClima['daily'])\n",
        "#Pregunta 5\n",
        "t = datosClima['daily'][6]\n",
        "print(f\"La temperatura del 14/09 es de: {t['temp']}\")\n",
        "#Pregunta 6\n",
        "elementos = len(datosClima['daily'])\n",
        "print(elementos)"
      ],
      "metadata": {
        "colab": {
          "base_uri": "https://localhost:8080/"
        },
        "id": "VNiSPTO7tDdE",
        "outputId": "aeddc1a4-b32f-4cfc-dcd4-fd5d5970ee65"
      },
      "execution_count": null,
      "outputs": [
        {
          "output_type": "stream",
          "name": "stdout",
          "text": [
            "Latitud de 28.5421\n",
            "Longitud de -81.379\n",
            "Presión atmosférica del 11/09: 1018\n",
            "La humedad relativa del 13/09 es: 61%\n",
            "[{'dt': '09/Sep/24', 'temp': 26.33, 'pressure': 1020, 'humidity': 58}, {'dt': '10/Sep/24', 'temp': 28.03, 'pressure': 1018, 'humidity': 47}, {'dt': '11/Sep/24', 'temp': 28.93, 'pressure': 1018, 'humidity': 56}, {'dt': '12/Sep/24', 'temp': 30.8, 'pressure': 1018, 'humidity': 46}, {'dt': '13/Sep/24', 'temp': 27.17, 'pressure': 1019, 'humidity': 61}, {'dt': '14/Sep/24', 'temp': 24.02, 'pressure': 1020, 'humidity': 67}, {'dt': '17/Sep/24', 'temp': 23.73, 'pressure': 1023, 'humidity': 40}, {'dt': '18/Sep/24', 'temp': 24.7, 'pressure': 1024, 'humidity': 39}]\n",
            "La temperatura del 14/09 es de: 23.73\n",
            "8\n"
          ]
        }
      ]
    }
  ]
}