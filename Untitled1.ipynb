{
  "nbformat": 4,
  "nbformat_minor": 0,
  "metadata": {
    "colab": {
      "provenance": [],
      "authorship_tag": "ABX9TyMrBGJsizjBw5PLXxPV7Nfl",
      "include_colab_link": true
    },
    "kernelspec": {
      "name": "python3",
      "display_name": "Python 3"
    },
    "language_info": {
      "name": "python"
    }
  },
  "cells": [
    {
      "cell_type": "markdown",
      "metadata": {
        "id": "view-in-github",
        "colab_type": "text"
      },
      "source": [
        "<a href=\"https://colab.research.google.com/github/saiddimas/saiddimas/blob/main/Untitled1.ipynb\" target=\"_parent\"><img src=\"https://colab.research.google.com/assets/colab-badge.svg\" alt=\"Open In Colab\"/></a>"
      ]
    },
    {
      "cell_type": "markdown",
      "source": [
        "Problema 1"
      ],
      "metadata": {
        "id": "AmJLRgJGnNh8"
      }
    },
    {
      "cell_type": "code",
      "execution_count": 1,
      "metadata": {
        "colab": {
          "base_uri": "https://localhost:8080/"
        },
        "id": "KFAYxCg4iuYz",
        "outputId": "b24ecd5f-5003-4e19-fc6b-24c07eb57b14"
      },
      "outputs": [
        {
          "output_type": "stream",
          "name": "stdout",
          "text": [
            "La suma es 2550\n"
          ]
        }
      ],
      "source": [
        "    resultado = 0\n",
        "    for suma in range(0, 101, 2):\n",
        "        resultado += suma\n",
        "\n",
        "    print(\"La suma es\", resultado)"
      ]
    },
    {
      "cell_type": "markdown",
      "source": [
        "Problema 2"
      ],
      "metadata": {
        "id": "KIos-Vl-nMod"
      }
    },
    {
      "cell_type": "code",
      "source": [
        "    num = int(input(\"Ingresa un número del 1 al 20 \"))\n",
        "    if 1 <= num <= 20:\n",
        "        fac = 1\n",
        "        res = 1\n",
        "        while fac <= num:\n",
        "            res *= fac\n",
        "            fac += 1\n",
        "        print(\"El factorial es: \",res )\n",
        "    else:\n",
        "        print(\"El número debe estar entre el 1 y el 20\")"
      ],
      "metadata": {
        "colab": {
          "base_uri": "https://localhost:8080/"
        },
        "id": "UDqJVb8PnLTc",
        "outputId": "7a145a31-4435-452a-96fa-a5a027550ca4"
      },
      "execution_count": 4,
      "outputs": [
        {
          "output_type": "stream",
          "name": "stdout",
          "text": [
            "Ingresa un número del 1 al 20 6\n",
            "El factorial es:  720\n"
          ]
        }
      ]
    },
    {
      "cell_type": "markdown",
      "source": [
        "Problema 3"
      ],
      "metadata": {
        "id": "LdHtLl6E3jQn"
      }
    },
    {
      "cell_type": "code",
      "source": [
        "    num = int(input(\"Ingresa un número \"))\n",
        "    numP = True\n",
        "    for primo in range(2,num):\n",
        "        if num % primo == 0:\n",
        "            numP = False\n",
        "            break\n",
        "    if numP:\n",
        "        print(\"Tu número es primo\")\n",
        "    else:\n",
        "        print(\"Tu número no es primo\")"
      ],
      "metadata": {
        "colab": {
          "base_uri": "https://localhost:8080/"
        },
        "id": "2UMYIBmZ3mvs",
        "outputId": "13363e1a-510e-45ef-e60c-19238e03966c"
      },
      "execution_count": 5,
      "outputs": [
        {
          "output_type": "stream",
          "name": "stdout",
          "text": [
            "Ingresa un número 44\n",
            "Tu número no es primo\n"
          ]
        }
      ]
    },
    {
      "cell_type": "markdown",
      "source": [
        "Problema 4"
      ],
      "metadata": {
        "id": "ZMI8rvvtFLLv"
      }
    },
    {
      "cell_type": "code",
      "source": [
        "    num = int(input(\"Ingresa un número del 1 al 50 \"))\n",
        "    if 1<=num<=50:\n",
        "        f1 = 0\n",
        "        f2 = 1\n",
        "        fibo = [f1,f2]\n",
        "        for _ in range(num-2):\n",
        "            ns = f1 + f2\n",
        "            fibo.append(ns)\n",
        "            f1,f2 = f2,ns\n",
        "        print(\"Los primeros\", num,\"números de la lista de Fibonacci son\")\n",
        "        print(fibo[:num])\n",
        "    else:\n",
        "        print(\"Tu número debe estar entre el 1 y el 50\")"
      ],
      "metadata": {
        "colab": {
          "base_uri": "https://localhost:8080/"
        },
        "id": "ktkWoAL9FPPf",
        "outputId": "ce35d5dd-8a42-4240-b746-ff03e8abd09a"
      },
      "execution_count": 6,
      "outputs": [
        {
          "output_type": "stream",
          "name": "stdout",
          "text": [
            "Ingresa un número del 1 al 50 17\n",
            "Los primeros 17 números de la lista de Fibonacci son\n",
            "[0, 1, 1, 2, 3, 5, 8, 13, 21, 34, 55, 89, 144, 233, 377, 610, 987]\n"
          ]
        }
      ]
    },
    {
      "cell_type": "markdown",
      "source": [
        "Problema 5"
      ],
      "metadata": {
        "id": "Ws16qwCgNd2P"
      }
    },
    {
      "cell_type": "code",
      "source": [
        "    c = str(input(\"Ingresa un texto \"))\n",
        "    vo = 0\n",
        "    v = \"aeiouAEIOU\"\n",
        "    for caracter in c:\n",
        "        if caracter in v:\n",
        "            vo += 1\n",
        "    print(c, \"Tiene\", vo,\"vocales\")"
      ],
      "metadata": {
        "colab": {
          "base_uri": "https://localhost:8080/"
        },
        "id": "Y2gkeixrRm02",
        "outputId": "d706162c-af15-48bb-ef25-da091a40b961"
      },
      "execution_count": 35,
      "outputs": [
        {
          "output_type": "stream",
          "name": "stdout",
          "text": [
            "Ingresa un texto Hola\n",
            "Hola Tiene 2 vocales\n"
          ]
        }
      ]
    },
    {
      "cell_type": "markdown",
      "source": [
        "Problema 6"
      ],
      "metadata": {
        "id": "xOkY3ZqKT4kk"
      }
    },
    {
      "cell_type": "code",
      "source": [
        "    num = int(input(\"Ingresa un número \"))\n",
        "    for T in range(0,11):\n",
        "        n1 = num*T\n",
        "        print(n1)"
      ],
      "metadata": {
        "colab": {
          "base_uri": "https://localhost:8080/"
        },
        "id": "IcBCgESnT6jI",
        "outputId": "27b6f129-01df-4c4f-bfc6-410c232ec5e6"
      },
      "execution_count": 9,
      "outputs": [
        {
          "output_type": "stream",
          "name": "stdout",
          "text": [
            "Ingresa un número 23\n",
            "0\n",
            "23\n",
            "46\n",
            "69\n",
            "92\n",
            "115\n",
            "138\n",
            "161\n",
            "184\n",
            "207\n",
            "230\n"
          ]
        }
      ]
    },
    {
      "cell_type": "markdown",
      "source": [
        "Problema 7"
      ],
      "metadata": {
        "id": "1xZH4RPNVzmK"
      }
    },
    {
      "cell_type": "code",
      "source": [
        "    num = input(\"Ingresa una lista de números con espacios \")\n",
        "    lista = list(map(int, num.split()))\n",
        "    k = 0\n",
        "    for n in lista:\n",
        "\n",
        "        k += n\n",
        "    print(k)"
      ],
      "metadata": {
        "colab": {
          "base_uri": "https://localhost:8080/"
        },
        "id": "bwwZUl-nV1Er",
        "outputId": "c22363c9-e6d9-4ab8-e6ff-492f475948f1"
      },
      "execution_count": 10,
      "outputs": [
        {
          "output_type": "stream",
          "name": "stdout",
          "text": [
            "Ingresa una lista de números con espacios 1 2 3 4\n",
            "10\n"
          ]
        }
      ]
    },
    {
      "cell_type": "markdown",
      "source": [
        "Problema 8"
      ],
      "metadata": {
        "id": "leU6763xcyKT"
      }
    },
    {
      "cell_type": "code",
      "source": [
        "    n = input(\"Ingresa una lista de números con espacios \")\n",
        "    lista = list(map(int, n.split()))\n",
        "    n1 = min(lista)\n",
        "    n2 = max(lista)\n",
        "    print(\"El número mayor es\", n2,\" y el menor es\", n1)"
      ],
      "metadata": {
        "colab": {
          "base_uri": "https://localhost:8080/"
        },
        "id": "gTOF88vLh0Qn",
        "outputId": "09470e7d-b5ff-4391-a328-d4181337a08a"
      },
      "execution_count": 7,
      "outputs": [
        {
          "output_type": "stream",
          "name": "stdout",
          "text": [
            "Ingresa una lista de números con espacios 1 2 3 4 5 6 7\n",
            "El número mayor es 7  y el menor es 1\n"
          ]
        }
      ]
    },
    {
      "cell_type": "markdown",
      "source": [
        "Problema 9"
      ],
      "metadata": {
        "id": "U4cSi_4RjWFK"
      }
    },
    {
      "cell_type": "code",
      "source": [
        "    texto = input(\"Ingresa un texto \")\n",
        "    k = 0\n",
        "    numP = False\n",
        "    for cant in texto:\n",
        "        if cant != ' ' and not numP:\n",
        "            numP = True\n",
        "            k += 1\n",
        "        elif cant == ' ':\n",
        "            numP = False\n",
        "    print(\"Tu texto contiene\", k,\"palabras\")"
      ],
      "metadata": {
        "colab": {
          "base_uri": "https://localhost:8080/"
        },
        "id": "7-1ZKdgvl1h6",
        "outputId": "e9c850ea-8a71-4a96-ff8c-9b5de3c7c74f"
      },
      "execution_count": 28,
      "outputs": [
        {
          "output_type": "stream",
          "name": "stdout",
          "text": [
            "Ingresa un texto Hola cómo estas hermosa\n",
            "Tu texto contiene 4 palabras\n"
          ]
        }
      ]
    },
    {
      "cell_type": "markdown",
      "source": [
        "Problema 10"
      ],
      "metadata": {
        "id": "ZsBVTs8Mo2EI"
      }
    },
    {
      "cell_type": "code",
      "source": [
        "    texto = input(\"Ingresé un texto \")\n",
        "    i = \"\"\n",
        "    k = len(texto) - 1\n",
        "    while k >= 0:\n",
        "        i += texto[k]\n",
        "        k -= 1\n",
        "    print(i)"
      ],
      "metadata": {
        "colab": {
          "base_uri": "https://localhost:8080/"
        },
        "id": "PNfyuuq4v3z3",
        "outputId": "c1de902d-3bb5-4bae-e965-ca8a822d85d0"
      },
      "execution_count": 61,
      "outputs": [
        {
          "output_type": "stream",
          "name": "stdout",
          "text": [
            "Ingresé un texto Hola mundo\n",
            "odnum aloH\n"
          ]
        }
      ]
    },
    {
      "cell_type": "markdown",
      "source": [
        "Problema 11"
      ],
      "metadata": {
        "id": "IKDPHPcnqXGq"
      }
    },
    {
      "cell_type": "code",
      "source": [
        "    num = input(\"Ingresa un numero \")\n",
        "    lista = list(map(int, num))\n",
        "    k = 0\n",
        "    for n in lista:\n",
        "\n",
        "        k += n\n",
        "    print(k)"
      ],
      "metadata": {
        "colab": {
          "base_uri": "https://localhost:8080/"
        },
        "id": "E_S0cW2Co31z",
        "outputId": "2a01e857-f21d-467f-cad6-e0f2a041d463"
      },
      "execution_count": 55,
      "outputs": [
        {
          "output_type": "stream",
          "name": "stdout",
          "text": [
            "Ingresa un numero 12\n",
            "3\n"
          ]
        }
      ]
    },
    {
      "cell_type": "markdown",
      "source": [
        "Problema 12"
      ],
      "metadata": {
        "id": "MXX3ew-2x97b"
      }
    },
    {
      "cell_type": "code",
      "source": [
        "num = input(\"Ingresa una lista de números separados por espacios: \")\n",
        "lista = list(map(int, num.split()))\n",
        "lista.sort()\n",
        "print(\"Lista ordenada:\", lista)"
      ],
      "metadata": {
        "colab": {
          "base_uri": "https://localhost:8080/"
        },
        "id": "Fb5DjKPWyADL",
        "outputId": "f22952ad-c376-4f59-937e-0e014748199a"
      },
      "execution_count": 63,
      "outputs": [
        {
          "output_type": "stream",
          "name": "stdout",
          "text": [
            "Ingresa una lista de números separados por espacios: 1 3 2 3 3 1 4 5 7 7 88 23 55 \n",
            "Lista ordenada: [1, 1, 2, 3, 3, 3, 4, 5, 7, 7, 23, 55, 88]\n"
          ]
        }
      ]
    },
    {
      "cell_type": "markdown",
      "source": [
        "Problema 13"
      ],
      "metadata": {
        "id": "WPoCmNzuss4Z"
      }
    },
    {
      "cell_type": "code",
      "source": [
        "    c = str(input(\"Ingresa un texto \"))\n",
        "    h = str(input(\"Ingresa la letra quer quieres ver \"))\n",
        "    vo = 0\n",
        "    v = h\n",
        "    for caracter in c:\n",
        "        if caracter in v:\n",
        "            vo += 1\n",
        "    print(c, \"Tiene\", vo,\"letra(s)\", h)"
      ],
      "metadata": {
        "colab": {
          "base_uri": "https://localhost:8080/"
        },
        "id": "cKpLq4MRrB0F",
        "outputId": "c9f8187f-291e-4d4a-beaf-921e5d08b725"
      },
      "execution_count": 54,
      "outputs": [
        {
          "output_type": "stream",
          "name": "stdout",
          "text": [
            "Ingresa un texto Hola mundo\n",
            "Ingresa la letra quer quieres ver o\n",
            "Hola mundo Tiene 2 letra(s) o\n"
          ]
        }
      ]
    },
    {
      "cell_type": "markdown",
      "source": [
        "Problema 14"
      ],
      "metadata": {
        "id": "DOVi-Zs9yfEV"
      }
    },
    {
      "cell_type": "code",
      "source": [
        "    import random\n",
        "    n = int(input(\"Ingresa la cantidad de números aleatorios: \"))\n",
        "    if n > 0:\n",
        "        lista_aleatoria = []\n",
        "        contador = 0\n",
        "        while contador < n:\n",
        "            num = random.randint(1, 100)\n",
        "            lista_aleatoria.append(num)\n",
        "            contador += 1\n",
        "\n",
        "        print(\"Lista de números aleatorios:\", lista_aleatoria)\n",
        "    else:\n",
        "        print(\"Por favor, ingresa un número mayor que 0.\")"
      ],
      "metadata": {
        "colab": {
          "base_uri": "https://localhost:8080/"
        },
        "id": "oCPybJTIyjjh",
        "outputId": "a432acca-a76c-4449-b419-8b848dcd190f"
      },
      "execution_count": 64,
      "outputs": [
        {
          "output_type": "stream",
          "name": "stdout",
          "text": [
            "Ingresa la cantidad de números aleatorios: 79\n",
            "Lista de números aleatorios: [60, 1, 97, 46, 51, 91, 91, 41, 84, 25, 27, 1, 72, 25, 57, 62, 91, 31, 69, 50, 84, 95, 49, 18, 43, 1, 37, 12, 41, 9, 53, 74, 53, 52, 97, 52, 64, 93, 65, 26, 8, 39, 30, 39, 27, 88, 98, 93, 56, 5, 25, 47, 42, 77, 8, 44, 40, 34, 74, 43, 85, 33, 50, 73, 55, 8, 77, 6, 93, 76, 83, 55, 45, 98, 38, 18, 5, 66, 22]\n"
          ]
        }
      ]
    }
  ]
}